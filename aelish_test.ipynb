{
 "cells": [
  {
   "cell_type": "code",
   "execution_count": 5,
   "id": "0f692e46-6c5a-4563-8fe2-8baa1be3db71",
   "metadata": {},
   "outputs": [
    {
     "ename": "ModuleNotFoundError",
     "evalue": "No module named 'fbprophet'",
     "output_type": "error",
     "traceback": [
      "\u001b[1;31m---------------------------------------------------------------------------\u001b[0m",
      "\u001b[1;31mModuleNotFoundError\u001b[0m                       Traceback (most recent call last)",
      "Cell \u001b[1;32mIn[5], line 2\u001b[0m\n\u001b[0;32m      1\u001b[0m \u001b[38;5;28;01mimport\u001b[39;00m \u001b[38;5;21;01mpandas\u001b[39;00m \u001b[38;5;28;01mas\u001b[39;00m \u001b[38;5;21;01mpd\u001b[39;00m\n\u001b[1;32m----> 2\u001b[0m \u001b[38;5;28;01mfrom\u001b[39;00m \u001b[38;5;21;01mfbprophet\u001b[39;00m \u001b[38;5;28;01mimport\u001b[39;00m Prophet\n\u001b[0;32m      4\u001b[0m \u001b[38;5;66;03m# Load the data\u001b[39;00m\n\u001b[0;32m      5\u001b[0m csv_file_path \u001b[38;5;241m=\u001b[39m \u001b[38;5;124m'\u001b[39m\u001b[38;5;124mD:/Jupyter Notebook/wind_data.csv\u001b[39m\u001b[38;5;124m'\u001b[39m\n",
      "\u001b[1;31mModuleNotFoundError\u001b[0m: No module named 'fbprophet'"
     ]
    }
   ],
   "source": [
    "import pandas as pd\n",
    "from fbprophet import Prophet\n",
    "\n",
    "# Load the data\n",
    "csv_file_path = 'D:/Jupyter Notebook/wind_data.csv'\n",
    "data = pd.read_csv(csv_file_path)\n",
    "\n",
    "# Preprocess the data\n",
    "data['Year'] = pd.to_datetime(data['Year'], format='%Y')\n",
    "\n",
    "# Get unique countries in the dataset\n",
    "countries = data['country'].unique()\n",
    "\n",
    "# Forecast function using Prophet\n",
    "def prophet_forecast(data, column, start_year, end_year):\n",
    "    forecasts = []\n",
    "    for country in countries:\n",
    "        country_data = data[data['country'] == country]\n",
    "        country_data = country_data.rename(columns={'Year': 'ds', column: 'y'})\n",
    "        \n",
    "        # Initialize and fit the model\n",
    "        model = Prophet()\n",
    "        model.fit(country_data)\n",
    "        \n",
    "        # Make future dataframe for forecasting\n",
    "        future = model.make_future_dataframe(periods=end_year-start_year+1, freq='Y')\n",
    "        \n",
    "        # Forecast\n",
    "        forecast = model.predict(future)\n",
    "        \n",
    "        # Extracting forecasted values\n",
    "        forecast = forecast[['ds', 'yhat']].tail(end_year-start_year+1)\n",
    "        \n",
    "        forecasts.append((country, forecast))\n",
    "        \n",
    "    return forecasts\n",
    "\n",
    "# Forecast wind generation and consumption for each country\n",
    "start_year = 2021\n",
    "end_year = 2026\n",
    "generation_forecasts = prophet_forecast(data, 'Wind_generation', start_year, end_year)\n",
    "consumption_forecasts = prophet_forecast(data, 'Wind_consumption', start_year, end_year)\n",
    "\n",
    "# Example of accessing forecasts for a specific country\n",
    "for country, forecast in generation_forecasts:\n",
    "    print(f\"Forecast for {country} - Wind Generation:\")\n",
    "    print(forecast)\n",
    "\n",
    "for country, forecast in consumption_forecasts:\n",
    "    print(f\"Forecast for {country} - Wind Consumption:\")\n",
    "    print(forecast)\n"
   ]
  },
  {
   "cell_type": "code",
   "execution_count": null,
   "id": "722ee14c-8764-42f9-9723-457994dc7fda",
   "metadata": {},
   "outputs": [],
   "source": []
  }
 ],
 "metadata": {
  "kernelspec": {
   "display_name": "Python 3 (ipykernel)",
   "language": "python",
   "name": "python3"
  },
  "language_info": {
   "codemirror_mode": {
    "name": "ipython",
    "version": 3
   },
   "file_extension": ".py",
   "mimetype": "text/x-python",
   "name": "python",
   "nbconvert_exporter": "python",
   "pygments_lexer": "ipython3",
   "version": "3.12.2"
  }
 },
 "nbformat": 4,
 "nbformat_minor": 5
}
