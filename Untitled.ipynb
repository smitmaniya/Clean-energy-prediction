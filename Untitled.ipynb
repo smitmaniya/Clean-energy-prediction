{
 "cells": [
  {
   "cell_type": "code",
   "execution_count": 1,
   "id": "c6d9e0ba-39e9-4f5f-9e59-e35f30141371",
   "metadata": {},
   "outputs": [],
   "source": [
    "list1 = [\"apple\", 10, 3.14, [1, 2, 3], \"class\", 20, [4.5, 6.7], 5.5]\n"
   ]
  },
  {
   "cell_type": "code",
   "execution_count": 2,
   "id": "db5472c5-f870-4cf9-8124-36cd905ec33c",
   "metadata": {},
   "outputs": [],
   "source": [
    "list2 = [8, \"list in python\", [9.1, 7.2], 15, \"MAC\", [2, 4, 6], 3.33, 12.5]"
   ]
  },
  {
   "cell_type": "code",
   "execution_count": 4,
   "id": "15c6337e-fca9-4477-926c-d04cbd439202",
   "metadata": {},
   "outputs": [
    {
     "ename": "TypeError",
     "evalue": "'float' object is not subscriptable",
     "output_type": "error",
     "traceback": [
      "\u001b[1;31m---------------------------------------------------------------------------\u001b[0m",
      "\u001b[1;31mTypeError\u001b[0m                                 Traceback (most recent call last)",
      "Cell \u001b[1;32mIn[4], line 1\u001b[0m\n\u001b[1;32m----> 1\u001b[0m \u001b[43mlist1\u001b[49m\u001b[43m[\u001b[49m\u001b[38;5;241;43m2\u001b[39;49m\u001b[43m]\u001b[49m\u001b[43m[\u001b[49m\u001b[38;5;241;43m1\u001b[39;49m\u001b[43m]\u001b[49m\n",
      "\u001b[1;31mTypeError\u001b[0m: 'float' object is not subscriptable"
     ]
    }
   ],
   "source": [
    "list1[2][1]"
   ]
  },
  {
   "cell_type": "code",
   "execution_count": 5,
   "id": "e5af3611-64c2-4dd6-b750-9c41907057f2",
   "metadata": {},
   "outputs": [
    {
     "ename": "TypeError",
     "evalue": "'int' object is not subscriptable",
     "output_type": "error",
     "traceback": [
      "\u001b[1;31m---------------------------------------------------------------------------\u001b[0m",
      "\u001b[1;31mTypeError\u001b[0m                                 Traceback (most recent call last)",
      "Cell \u001b[1;32mIn[5], line 1\u001b[0m\n\u001b[1;32m----> 1\u001b[0m \u001b[43mlist2\u001b[49m\u001b[43m[\u001b[49m\u001b[38;5;241;43m3\u001b[39;49m\u001b[43m]\u001b[49m\u001b[43m[\u001b[49m\u001b[38;5;241;43m0\u001b[39;49m\u001b[43m]\u001b[49m\n",
      "\u001b[1;31mTypeError\u001b[0m: 'int' object is not subscriptable"
     ]
    }
   ],
   "source": [
    "list2[3][0]"
   ]
  },
  {
   "cell_type": "code",
   "execution_count": 6,
   "id": "73315378-675c-4aa3-9d6d-632b1cff2ff6",
   "metadata": {},
   "outputs": [
    {
     "ename": "IndexError",
     "evalue": "string index out of range",
     "output_type": "error",
     "traceback": [
      "\u001b[1;31m---------------------------------------------------------------------------\u001b[0m",
      "\u001b[1;31mIndexError\u001b[0m                                Traceback (most recent call last)",
      "Cell \u001b[1;32mIn[6], line 1\u001b[0m\n\u001b[1;32m----> 1\u001b[0m \u001b[43mlist1\u001b[49m\u001b[43m[\u001b[49m\u001b[38;5;241;43m4\u001b[39;49m\u001b[43m]\u001b[49m\u001b[43m[\u001b[49m\u001b[38;5;241;43m2\u001b[39;49m\u001b[43m]\u001b[49m\u001b[43m[\u001b[49m\u001b[38;5;241;43m1\u001b[39;49m\u001b[43m]\u001b[49m\n",
      "\u001b[1;31mIndexError\u001b[0m: string index out of range"
     ]
    }
   ],
   "source": [
    "list1[4][2][1]"
   ]
  },
  {
   "cell_type": "code",
   "execution_count": 7,
   "id": "8fca830b-f0b7-4639-babe-3e8301745e18",
   "metadata": {},
   "outputs": [],
   "source": [
    "list2[5][1] = 0"
   ]
  },
  {
   "cell_type": "code",
   "execution_count": 8,
   "id": "6b060eb4-5826-48b9-b75d-9f3ac25ebf43",
   "metadata": {},
   "outputs": [],
   "source": [
    "d1={\"name\": \"Bob\", \"age\": 35, (4, 10):['x', 'y', 'z'], '+1' : \"Canada\",  44: 99, 19:555} "
   ]
  },
  {
   "cell_type": "code",
   "execution_count": 9,
   "id": "aac9d2c0-4e2b-4737-bd21-e9d76c3d02f3",
   "metadata": {},
   "outputs": [],
   "source": [
    "d2 = dict([(\"name\",\"Livy\"), ('age', 44), ((1, 3, 5), ['a', 'b', 'c']), (0, 'black'), (33, 67)]) \n",
    "\n"
   ]
  },
  {
   "cell_type": "code",
   "execution_count": 10,
   "id": "23837454-91ee-4a47-a493-8eed0cb76abb",
   "metadata": {},
   "outputs": [],
   "source": [
    "d3 = dict(id=2277, name='Michael', siblings=['Janet', 'Martin', 'Richard'])  \n"
   ]
  },
  {
   "cell_type": "code",
   "execution_count": 11,
   "id": "f2bb5783-4f7a-4e7d-9b1b-2b033619f7e4",
   "metadata": {},
   "outputs": [
    {
     "name": "stdout",
     "output_type": "stream",
     "text": [
      "name\n",
      "age\n",
      "(4, 10)\n",
      "+1\n",
      "44\n",
      "19\n"
     ]
    }
   ],
   "source": [
    "for key in d1.keys(): \n",
    "  print(key)"
   ]
  },
  {
   "cell_type": "code",
   "execution_count": 12,
   "id": "e2928ecb-aa6e-4e28-9e78-43687620eeae",
   "metadata": {},
   "outputs": [
    {
     "name": "stdout",
     "output_type": "stream",
     "text": [
      "Livy\n",
      "44\n",
      "['a', 'b', 'c']\n",
      "black\n",
      "67\n"
     ]
    }
   ],
   "source": [
    "for key in d2.keys():\n",
    "    print(d2[key])\n"
   ]
  },
  {
   "cell_type": "code",
   "execution_count": null,
   "id": "9da33e7b-8223-474b-ac2e-8f4ef4a2aa0c",
   "metadata": {},
   "outputs": [],
   "source": []
  }
 ],
 "metadata": {
  "kernelspec": {
   "display_name": "Python 3 (ipykernel)",
   "language": "python",
   "name": "python3"
  },
  "language_info": {
   "codemirror_mode": {
    "name": "ipython",
    "version": 3
   },
   "file_extension": ".py",
   "mimetype": "text/x-python",
   "name": "python",
   "nbconvert_exporter": "python",
   "pygments_lexer": "ipython3",
   "version": "3.12.2"
  }
 },
 "nbformat": 4,
 "nbformat_minor": 5
}
